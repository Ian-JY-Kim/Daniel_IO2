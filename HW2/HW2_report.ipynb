{
 "cells": [
  {
   "cell_type": "code",
   "execution_count": 1,
   "metadata": {},
   "outputs": [
    {
     "name": "stderr",
     "output_type": "stream",
     "text": [
      "2023-04-03 21:42:28,919\tINFO worker.py:1538 -- Started a local Ray instance.\n"
     ]
    },
    {
     "data": {
      "text/html": [
       "<div>\n",
       "    <div style=\"margin-left: 50px;display: flex;flex-direction: row;align-items: center\">\n",
       "        <h3 style=\"color: var(--jp-ui-font-color0)\">Ray</h3>\n",
       "        <svg version=\"1.1\" id=\"ray\" width=\"3em\" viewBox=\"0 0 144.5 144.6\" style=\"margin-left: 3em;margin-right: 3em\">\n",
       "            <g id=\"layer-1\">\n",
       "                <path fill=\"#00a2e9\" class=\"st0\" d=\"M97.3,77.2c-3.8-1.1-6.2,0.9-8.3,5.1c-3.5,6.8-9.9,9.9-17.4,9.6S58,88.1,54.8,81.2c-1.4-3-3-4-6.3-4.1\n",
       "                    c-5.6-0.1-9.9,0.1-13.1,6.4c-3.8,7.6-13.6,10.2-21.8,7.6C5.2,88.4-0.4,80.5,0,71.7c0.1-8.4,5.7-15.8,13.8-18.2\n",
       "                    c8.4-2.6,17.5,0.7,22.3,8c1.3,1.9,1.3,5.2,3.6,5.6c3.9,0.6,8,0.2,12,0.2c1.8,0,1.9-1.6,2.4-2.8c3.5-7.8,9.7-11.8,18-11.9\n",
       "                    c8.2-0.1,14.4,3.9,17.8,11.4c1.3,2.8,2.9,3.6,5.7,3.3c1-0.1,2,0.1,3,0c2.8-0.5,6.4,1.7,8.1-2.7s-2.3-5.5-4.1-7.5\n",
       "                    c-5.1-5.7-10.9-10.8-16.1-16.3C84,38,81.9,37.1,78,38.3C66.7,42,56.2,35.7,53,24.1C50.3,14,57.3,2.8,67.7,0.5\n",
       "                    C78.4-2,89,4.7,91.5,15.3c0.1,0.3,0.1,0.5,0.2,0.8c0.7,3.4,0.7,6.9-0.8,9.8c-1.7,3.2-0.8,5,1.5,7.2c6.7,6.5,13.3,13,19.8,19.7\n",
       "                    c1.8,1.8,3,2.1,5.5,1.2c9.1-3.4,17.9-0.6,23.4,7c4.8,6.9,4.6,16.1-0.4,22.9c-5.4,7.2-14.2,9.9-23.1,6.5c-2.3-0.9-3.5-0.6-5.1,1.1\n",
       "                    c-6.7,6.9-13.6,13.7-20.5,20.4c-1.8,1.8-2.5,3.2-1.4,5.9c3.5,8.7,0.3,18.6-7.7,23.6c-7.9,5-18.2,3.8-24.8-2.9\n",
       "                    c-6.4-6.4-7.4-16.2-2.5-24.3c4.9-7.8,14.5-11,23.1-7.8c3,1.1,4.7,0.5,6.9-1.7C91.7,98.4,98,92.3,104.2,86c1.6-1.6,4.1-2.7,2.6-6.2\n",
       "                    c-1.4-3.3-3.8-2.5-6.2-2.6C99.8,77.2,98.9,77.2,97.3,77.2z M72.1,29.7c5.5,0.1,9.9-4.3,10-9.8c0-0.1,0-0.2,0-0.3\n",
       "                    C81.8,14,77,9.8,71.5,10.2c-5,0.3-9,4.2-9.3,9.2c-0.2,5.5,4,10.1,9.5,10.3C71.8,29.7,72,29.7,72.1,29.7z M72.3,62.3\n",
       "                    c-5.4-0.1-9.9,4.2-10.1,9.7c0,0.2,0,0.3,0,0.5c0.2,5.4,4.5,9.7,9.9,10c5.1,0.1,9.9-4.7,10.1-9.8c0.2-5.5-4-10-9.5-10.3\n",
       "                    C72.6,62.3,72.4,62.3,72.3,62.3z M115,72.5c0.1,5.4,4.5,9.7,9.8,9.9c5.6-0.2,10-4.8,10-10.4c-0.2-5.4-4.6-9.7-10-9.7\n",
       "                    c-5.3-0.1-9.8,4.2-9.9,9.5C115,72.1,115,72.3,115,72.5z M19.5,62.3c-5.4,0.1-9.8,4.4-10,9.8c-0.1,5.1,5.2,10.4,10.2,10.3\n",
       "                    c5.6-0.2,10-4.9,9.8-10.5c-0.1-5.4-4.5-9.7-9.9-9.6C19.6,62.3,19.5,62.3,19.5,62.3z M71.8,134.6c5.9,0.2,10.3-3.9,10.4-9.6\n",
       "                    c0.5-5.5-3.6-10.4-9.1-10.8c-5.5-0.5-10.4,3.6-10.8,9.1c0,0.5,0,0.9,0,1.4c-0.2,5.3,4,9.8,9.3,10\n",
       "                    C71.6,134.6,71.7,134.6,71.8,134.6z\"/>\n",
       "            </g>\n",
       "        </svg>\n",
       "        <table>\n",
       "            <tr>\n",
       "                <td style=\"text-align: left\"><b>Python version:</b></td>\n",
       "                <td style=\"text-align: left\"><b>3.9.7</b></td>\n",
       "            </tr>\n",
       "            <tr>\n",
       "                <td style=\"text-align: left\"><b>Ray version:</b></td>\n",
       "                <td style=\"text-align: left\"><b> 2.2.0</b></td>\n",
       "            </tr>\n",
       "            \n",
       "        </table>\n",
       "    </div>\n",
       "</div>\n"
      ],
      "text/plain": [
       "RayContext(dashboard_url='', python_version='3.9.7', ray_version='2.2.0', ray_commit='b6af0887ee5f2e460202133791ad941a41f15beb', address_info={'node_ip_address': '127.0.0.1', 'raylet_ip_address': '127.0.0.1', 'redis_address': None, 'object_store_address': '/tmp/ray/session_2023-04-03_21-42-26_466591_4617/sockets/plasma_store', 'raylet_socket_name': '/tmp/ray/session_2023-04-03_21-42-26_466591_4617/sockets/raylet', 'webui_url': '', 'session_dir': '/tmp/ray/session_2023-04-03_21-42-26_466591_4617', 'metrics_export_port': 59957, 'gcs_address': '127.0.0.1:61923', 'address': '127.0.0.1:61923', 'dashboard_agent_listen_port': 52365, 'node_id': '326a66dc6d9a647d0bc14b7dc168fd95b3922fa56e5cd116b8cf49b6'})"
      ]
     },
     "execution_count": 1,
     "metadata": {},
     "output_type": "execute_result"
    }
   ],
   "source": [
    "import numpy as np\n",
    "import pandas as pd\n",
    "from pandas import DataFrame as df\n",
    "import random\n",
    "import math\n",
    "import time \n",
    "from scipy.stats import norm\n",
    "from scipy.optimize import minimize\n",
    "import matplotlib.pyplot as plt\n",
    "import ray\n",
    "import seaborn as sns\n",
    "from scipy import stats\n",
    "ray.init(num_cpus= 10, ignore_reinit_error=True)"
   ]
  },
  {
   "cell_type": "code",
   "execution_count": 2,
   "metadata": {},
   "outputs": [],
   "source": [
    "from simulation import *\n",
    "from estimation import *"
   ]
  },
  {
   "cell_type": "markdown",
   "metadata": {},
   "source": [
    "# (1) Simulation Part"
   ]
  },
  {
   "cell_type": "markdown",
   "metadata": {},
   "source": [
    "### Define True Parameters"
   ]
  },
  {
   "cell_type": "code",
   "execution_count": 3,
   "metadata": {},
   "outputs": [],
   "source": [
    "# define true parameters\n",
    "# 0. discount factor\n",
    "beta = 0.9\n",
    "# 1. distribution\n",
    "gamma_loc = 5\n",
    "gamma_scale = np.sqrt(5)\n",
    "mu_loc = 5\n",
    "mu_scale = np.sqrt(5)\n",
    "theta_distribution = [gamma_loc, gamma_scale, mu_loc, mu_scale]\n",
    "\n",
    "# 2. profit\n",
    "#fc = 3\n",
    "fc=5\n",
    "\n",
    "# 3. equilibrium search\n",
    "learning_rate = 0.4\n",
    "epsilon = 0.00000000001\n",
    "theta_search = [learning_rate, epsilon]\n",
    "\n",
    "# 4. define demand shock transition matrix\n",
    "x_transition = np.array([[0.6, 0.2, 0.2],\n",
    "                         [0.2, 0.6, 0.2],\n",
    "                         [0.2, 0.2, 0.6]])\n",
    "\n",
    "# 5. calculate pi matrix\n",
    "cournot_pi_matrix = np.ones((5,3))\n",
    "N_t_list = [1,2,3,4,5]\n",
    "x_idx_t_list = [0,1,2]\n",
    "for N_t in N_t_list:\n",
    "    for x_idx_t in x_idx_t_list:\n",
    "        cournot_pi_matrix[N_t-1][x_idx_t] = cournot_pi(N_t, x_idx_t, fc)"
   ]
  },
  {
   "cell_type": "code",
   "execution_count": 4,
   "metadata": {},
   "outputs": [
    {
     "name": "stdout",
     "output_type": "stream",
     "text": [
      "Following is the profit matrix: \n",
      " [[ 1.25       20.         51.25      ]\n",
      " [-2.22222222  6.11111111 20.        ]\n",
      " [-3.4375      1.25        9.0625    ]\n",
      " [-4.         -1.          4.        ]\n",
      " [-4.30555556 -2.22222222  1.25      ]]\n"
     ]
    }
   ],
   "source": [
    "print(\"Following is the profit matrix: \\n\", cournot_pi_matrix)"
   ]
  },
  {
   "cell_type": "markdown",
   "metadata": {},
   "source": [
    "### Search for Eqm $\\bar{\\mu}, \\bar{\\gamma}, \\bar{V}$"
   ]
  },
  {
   "cell_type": "code",
   "execution_count": 5,
   "metadata": {},
   "outputs": [
    {
     "name": "stderr",
     "output_type": "stream",
     "text": [
      "/Users/iankim/Library/Mobile Documents/com~apple~CloudDocs/Documents/2ndYear/Daniel/HW/pset2/simulation.py:223: RuntimeWarning: divide by zero encountered in double_scalars\n",
      "  term_2_temp = mu_loc + mu_scale*(norm.pdf(z, loc=0, scale=1)/(1 - norm.cdf(z, loc=0, scale=1)))\n"
     ]
    }
   ],
   "source": [
    "entry_TH_post_1, exit_TH_post_1, V_bar_post_1 = eqm_finder(1, theta_distribution, theta_search, cournot_pi_matrix)\n",
    "entry_TH_post_2, exit_TH_post_2, V_bar_post_2 = eqm_finder(2, theta_distribution, theta_search, cournot_pi_matrix)\n",
    "entry_TH_post_3, exit_TH_post_3, V_bar_post_3 = eqm_finder(3, theta_distribution, theta_search, cournot_pi_matrix)\n",
    "entry_TH_post_4, exit_TH_post_4, V_bar_post_4 = eqm_finder(4, theta_distribution, theta_search, cournot_pi_matrix)\n",
    "entry_TH_post_5, exit_TH_post_5, V_bar_post_5 = eqm_finder(5, theta_distribution, theta_search, cournot_pi_matrix)"
   ]
  },
  {
   "cell_type": "code",
   "execution_count": 6,
   "metadata": {},
   "outputs": [],
   "source": [
    "entry_TH = entry_TH_post_1\n",
    "exit_TH = exit_TH_post_1\n",
    "V_bar = V_bar_post_1"
   ]
  },
  {
   "cell_type": "code",
   "execution_count": 7,
   "metadata": {},
   "outputs": [
    {
     "data": {
      "text/plain": [
       "array([[0.99993772, 1.        , 1.        ],\n",
       "       [0.78049781, 0.99999789, 1.        ],\n",
       "       [0.51565717, 0.94784105, 0.99999999],\n",
       "       [0.3877311 , 0.72043591, 0.9970208 ],\n",
       "       [0.51624331, 0.67842228, 0.94060401]])"
      ]
     },
     "execution_count": 7,
     "metadata": {},
     "output_type": "execute_result"
    }
   ],
   "source": [
    "norm.cdf(exit_TH, loc = mu_loc, scale = mu_scale)"
   ]
  },
  {
   "cell_type": "markdown",
   "metadata": {},
   "source": [
    "## Question 6"
   ]
  },
  {
   "cell_type": "code",
   "execution_count": 8,
   "metadata": {},
   "outputs": [
    {
     "name": "stdout",
     "output_type": "stream",
     "text": [
      "True\n",
      "True\n",
      "True\n",
      "True\n"
     ]
    }
   ],
   "source": [
    "print(abs((entry_TH_post_1 - entry_TH_post_2).sum()) < 0.000000001)\n",
    "print(abs((entry_TH_post_1 - entry_TH_post_3).sum()) < 0.000000001)\n",
    "print(abs((entry_TH_post_1 - entry_TH_post_4).sum()) < 0.000000001)\n",
    "print(abs((entry_TH_post_1 - entry_TH_post_5).sum()) < 0.000000001)"
   ]
  },
  {
   "cell_type": "code",
   "execution_count": 9,
   "metadata": {},
   "outputs": [
    {
     "name": "stdout",
     "output_type": "stream",
     "text": [
      "True\n",
      "True\n",
      "True\n",
      "True\n"
     ]
    }
   ],
   "source": [
    "print(abs((exit_TH_post_1 - exit_TH_post_2).sum()) < 0.000000001)\n",
    "print(abs((exit_TH_post_1 - exit_TH_post_3).sum()) < 0.000000001)\n",
    "print(abs((exit_TH_post_1 - exit_TH_post_4).sum()) < 0.000000001)\n",
    "print(abs((exit_TH_post_1 - exit_TH_post_5).sum()) < 0.000000001)"
   ]
  },
  {
   "cell_type": "code",
   "execution_count": 10,
   "metadata": {},
   "outputs": [
    {
     "name": "stdout",
     "output_type": "stream",
     "text": [
      "True\n",
      "True\n",
      "True\n",
      "True\n"
     ]
    }
   ],
   "source": [
    "print(abs((V_bar_post_1 - V_bar_post_2).sum()) < 0.000000001)\n",
    "print(abs((V_bar_post_1 - V_bar_post_3).sum()) < 0.000000001)\n",
    "print(abs((V_bar_post_1 - V_bar_post_4).sum()) < 0.000000001)\n",
    "print(abs((V_bar_post_1 - V_bar_post_5).sum()) < 0.000000001)"
   ]
  },
  {
   "cell_type": "markdown",
   "metadata": {},
   "source": [
    "## Question 7"
   ]
  },
  {
   "cell_type": "code",
   "execution_count": 11,
   "metadata": {},
   "outputs": [],
   "source": [
    "entry_TH_x0 = entry_TH[:,0]\n",
    "entry_TH_x1 = entry_TH[:,1]\n",
    "entry_TH_x2 = entry_TH[:,2]\n",
    "\n",
    "exit_TH_x0 = exit_TH[:,0]\n",
    "exit_TH_x1 = exit_TH[:,1]\n",
    "exit_TH_x2 = exit_TH[:,2]\n",
    "\n",
    "V_bar_x0 = V_bar[:,0]\n",
    "V_bar_x1 = V_bar[:,1]\n",
    "V_bar_x2 = V_bar[:,2]"
   ]
  },
  {
   "cell_type": "code",
   "execution_count": 12,
   "metadata": {},
   "outputs": [
    {
     "data": {
      "image/png": "[encoded data removed]",
      "text/plain": [
       "<Figure size 936x360 with 3 Axes>"
      ]
     },
     "metadata": {
      "needs_background": "light"
     },
     "output_type": "display_data"
    }
   ],
   "source": [
    "plt.figure(figsize=(13, 5))\n",
    "\n",
    "plt.subplot(1,3,1)\n",
    "plt.plot([0,1,2,3,4], entry_TH_x0, marker='o', linestyle='--', color='r', label='x = -5')\n",
    "plt.plot([0,1,2,3,4], entry_TH_x1, marker='o', linestyle='--', color='g', label='x = 0')\n",
    "plt.plot([0,1,2,3,4], entry_TH_x2, marker='o', linestyle='--', color='b', label='x = 5')\n",
    "plt.xticks([0,1,2,3,4], [0,1,2,3,4])\n",
    "plt.title(\"cutoff entry cost\")\n",
    "plt.xlabel(\"N\")\n",
    "plt.legend()\n",
    "\n",
    "\n",
    "plt.subplot(1,3,2)\n",
    "plt.plot([1,2,3,4,5], exit_TH_x0, marker='o', linestyle='--', color='r', label='x = -5')\n",
    "plt.plot([1,2,3,4,5], exit_TH_x1, marker='o', linestyle='--', color='g', label='x = 0')\n",
    "plt.plot([1,2,3,4,5], exit_TH_x2, marker='o', linestyle='--', color='b', label='x = 5')\n",
    "plt.xticks([1,2,3,4,5], [1,2,3,4,5])\n",
    "plt.title(\"cutoff sell-off values\")\n",
    "plt.xlabel(\"N\")\n",
    "plt.legend()\n",
    "\n",
    "\n",
    "plt.subplot(1,3,3)\n",
    "plt.plot([1,2,3,4,5], V_bar_x0, marker='o', linestyle='--', color='r', label='x = -5')\n",
    "plt.plot([1,2,3,4,5], V_bar_x1, marker='o', linestyle='--', color='g', label='x = 0')\n",
    "plt.plot([1,2,3,4,5], V_bar_x2, marker='o', linestyle='--', color='b', label='x = 5')\n",
    "plt.xticks([1,2,3,4,5], [1,2,3,4,5])\n",
    "plt.title(\"incumbent value functions\")\n",
    "plt.xlabel(\"N\")\n",
    "plt.legend()\n",
    "\n",
    "\n",
    "plt.show()"
   ]
  },
  {
   "cell_type": "markdown",
   "metadata": {},
   "source": [
    "## Question 8"
   ]
  },
  {
   "cell_type": "code",
   "execution_count": 13,
   "metadata": {},
   "outputs": [],
   "source": [
    "# def x_simulator(current_x_idx):\n",
    "#     '''\n",
    "#     input: current x index\n",
    "#     output: tmr x index\n",
    "#     '''\n",
    "#     tmr_x_idx = random.choices(population = [0,1,2], weights = x_transition[current_x_idx], k = 1)[0]\n",
    "#     return tmr_x_idx\n",
    "\n",
    "def N_simulator(current_N, current_x_idx, entry_TH, exit_TH):\n",
    "    ''' \n",
    "    input: current_N, current_x_idx\n",
    "    output: tmr_N\n",
    "    '''\n",
    "    if current_N == 0:\n",
    "        gamma_draw = np.random.normal(gamma_loc, gamma_scale, 1)[0]\n",
    "        entry_TH_value = entry_TH[current_N][current_x_idx]\n",
    "        tmr_N = current_N + int(gamma_draw < entry_TH_value)    \n",
    "        entry_decision = int(gamma_draw < entry_TH_value)\n",
    "        exit_decision = 0\n",
    "    elif current_N == 5:\n",
    "        mu_draw_array = np.random.normal(mu_loc, mu_scale, current_N)\n",
    "        exit_TH_value_array = np.full(current_N, exit_TH[current_N-1][current_x_idx])\n",
    "        tmr_N = current_N - (mu_draw_array > exit_TH_value_array).sum()\n",
    "        entry_decision = 0\n",
    "        exit_decision = (mu_draw_array > exit_TH_value_array).sum()\n",
    "    else:\n",
    "        gamma_draw = np.random.normal(gamma_loc, gamma_scale, 1)[0]\n",
    "        mu_draw_array = np.random.normal(mu_loc, mu_scale, current_N)\n",
    "        entry_TH_value = entry_TH[current_N][current_x_idx]\n",
    "        exit_TH_value_array = np.full(current_N, exit_TH[current_N-1][current_x_idx])\n",
    "        tmr_N = current_N - (mu_draw_array > exit_TH_value_array).sum() + int(gamma_draw < entry_TH_value) \n",
    "        entry_decision = int(gamma_draw < entry_TH_value)\n",
    "        exit_decision = (mu_draw_array > exit_TH_value_array).sum()\n",
    "    \n",
    "    return tmr_N, entry_decision, exit_decision\n",
    "    \n"
   ]
  },
  {
   "cell_type": "code",
   "execution_count": 14,
   "metadata": {},
   "outputs": [],
   "source": [
    "def DGP_main():\n",
    "    N_list = [0]\n",
    "    x_idx_list = [1]\n",
    "    entry_decision_list = []\n",
    "    exit_decision_list = []\n",
    "    counter = 1\n",
    "    while (counter < 10001):\n",
    "        tmr_x_idx = x_simulator(x_idx_list[-1], counter)\n",
    "        x_idx_list.append(tmr_x_idx)\n",
    "\n",
    "        tmr_N, entry_decision, exit_decision = N_simulator(N_list[-1], x_idx_list[-1], entry_TH, exit_TH)\n",
    "        N_list.append(tmr_N)\n",
    "        entry_decision_list.append(entry_decision)\n",
    "        exit_decision_list.append(exit_decision)\n",
    "\n",
    "        counter += 1\n",
    "\n",
    "    simulated_data = df({'N': N_list[:-1], 'x_idx': x_idx_list[:-1], 'entry_decision': entry_decision_list, 'exit_decision': exit_decision_list})\n",
    "    # simulated_data.to_csv(\"simuldated_data.csv\")\n",
    "\n",
    "    return simulated_data, x_idx_list"
   ]
  },
  {
   "cell_type": "code",
   "execution_count": 15,
   "metadata": {},
   "outputs": [
    {
     "name": "stdout",
     "output_type": "stream",
     "text": [
      "average number of firms across 10,000 periods (100 MC sample):  3.406054\n"
     ]
    }
   ],
   "source": [
    "N_list = [DGP_main()[0]['N'].mean() for i in range(100)]\n",
    "#simulated_data = pd.read_csv(\"simuldated_data.csv\")\n",
    "print(\"average number of firms across 10,000 periods (100 MC sample): \", np.array(N_list).mean())"
   ]
  },
  {
   "cell_type": "code",
   "execution_count": 16,
   "metadata": {},
   "outputs": [],
   "source": [
    "x_idx_list = DGP_main()[1]"
   ]
  },
  {
   "cell_type": "markdown",
   "metadata": {},
   "source": [
    "## Question 9"
   ]
  },
  {
   "cell_type": "code",
   "execution_count": 17,
   "metadata": {},
   "outputs": [
    {
     "name": "stderr",
     "output_type": "stream",
     "text": [
      "/Users/iankim/Library/Mobile Documents/com~apple~CloudDocs/Documents/2ndYear/Daniel/HW/pset2/simulation.py:293: RuntimeWarning: divide by zero encountered in double_scalars\n",
      "  term_2_temp = mu_loc + mu_scale*(norm.pdf(z, loc=0, scale=1)/(1 - norm.cdf(z, loc=0, scale=1)))\n"
     ]
    }
   ],
   "source": [
    "entry_TH_tax, exit_TH_tax, V_bar_tax = eqm_finder_entry_cost(3, theta_distribution, theta_search, cournot_pi_matrix)"
   ]
  },
  {
   "cell_type": "code",
   "execution_count": 18,
   "metadata": {},
   "outputs": [],
   "source": [
    "def DGP_tax(x_idx_list):\n",
    "    N_list_tax = [0]\n",
    "    counter = 1\n",
    "    while (counter < 10001):\n",
    "        tmr_N = N_simulator(N_list_tax[-1], x_idx_list[counter-1], entry_TH_tax, exit_TH_tax)[0]\n",
    "        N_list_tax.append(tmr_N)\n",
    "        counter += 1\n",
    "\n",
    "    simulated_data_tax = df({'N': N_list_tax, 'x_idx': x_idx_list})\n",
    "    #simulated_data_tax.to_csv(\"simulated_data_tax.csv\")\n",
    "\n",
    "    return simulated_data_tax"
   ]
  },
  {
   "cell_type": "code",
   "execution_count": 19,
   "metadata": {},
   "outputs": [
    {
     "name": "stdout",
     "output_type": "stream",
     "text": [
      "average number of firms across 10,000 periods with tax (100 MC sample):  3.3338516148385167\n"
     ]
    }
   ],
   "source": [
    "N_list_tax = [DGP_tax(x_idx_list)['N'].mean() for i in range(100)]\n",
    "print(\"average number of firms across 10,000 periods with tax (100 MC sample): \", np.array(N_list_tax).mean())"
   ]
  },
  {
   "cell_type": "code",
   "execution_count": 20,
   "metadata": {},
   "outputs": [
    {
     "data": {
      "text/plain": [
       "Ttest_indResult(statistic=48.813402666508544, pvalue=2.3836771151715757e-112)"
      ]
     },
     "execution_count": 20,
     "metadata": {},
     "output_type": "execute_result"
    }
   ],
   "source": [
    "stats.ttest_ind(N_list, N_list_tax)"
   ]
  },
  {
   "cell_type": "code",
   "execution_count": 21,
   "metadata": {},
   "outputs": [
    {
     "data": {
      "image/png": "[encoded data removed]",
      "text/plain": [
       "<Figure size 432x288 with 1 Axes>"
      ]
     },
     "metadata": {
      "needs_background": "light"
     },
     "output_type": "display_data"
    }
   ],
   "source": [
    "sns.histplot(N_list, color = \"blue\", label = \"before tax\")\n",
    "sns.histplot(N_list_tax, color = \"red\", label = \"after tax\")\n",
    "\n",
    "plt.legend(title = \"time\")\n",
    "plt.title(\"average number of firm\")\n",
    "plt.show()"
   ]
  },
  {
   "cell_type": "markdown",
   "metadata": {},
   "source": [
    "--------------------------------"
   ]
  },
  {
   "cell_type": "markdown",
   "metadata": {},
   "source": [
    "# (2) Estimation Part "
   ]
  },
  {
   "cell_type": "markdown",
   "metadata": {},
   "source": [
    "## Question 10"
   ]
  },
  {
   "cell_type": "code",
   "execution_count": 25,
   "metadata": {},
   "outputs": [],
   "source": [
    "simulated_data = DGP_main()[0]\n",
    "simulated_data.to_csv(\"simulated_data.csv\")"
   ]
  },
  {
   "cell_type": "code",
   "execution_count": 26,
   "metadata": {},
   "outputs": [
    {
     "data": {
      "text/html": [
       "<div>\n",
       "<style scoped>\n",
       "    .dataframe tbody tr th:only-of-type {\n",
       "        vertical-align: middle;\n",
       "    }\n",
       "\n",
       "    .dataframe tbody tr th {\n",
       "        vertical-align: top;\n",
       "    }\n",
       "\n",
       "    .dataframe thead th {\n",
       "        text-align: right;\n",
       "    }\n",
       "</style>\n",
       "<table border=\"1\" class=\"dataframe\">\n",
       "  <thead>\n",
       "    <tr style=\"text-align: right;\">\n",
       "      <th></th>\n",
       "      <th>N</th>\n",
       "      <th>x_idx</th>\n",
       "      <th>entry_decision</th>\n",
       "      <th>exit_decision</th>\n",
       "    </tr>\n",
       "  </thead>\n",
       "  <tbody>\n",
       "    <tr>\n",
       "      <th>0</th>\n",
       "      <td>0</td>\n",
       "      <td>1</td>\n",
       "      <td>1</td>\n",
       "      <td>0</td>\n",
       "    </tr>\n",
       "    <tr>\n",
       "      <th>1</th>\n",
       "      <td>1</td>\n",
       "      <td>0</td>\n",
       "      <td>1</td>\n",
       "      <td>0</td>\n",
       "    </tr>\n",
       "    <tr>\n",
       "      <th>2</th>\n",
       "      <td>2</td>\n",
       "      <td>2</td>\n",
       "      <td>1</td>\n",
       "      <td>0</td>\n",
       "    </tr>\n",
       "    <tr>\n",
       "      <th>3</th>\n",
       "      <td>3</td>\n",
       "      <td>1</td>\n",
       "      <td>1</td>\n",
       "      <td>0</td>\n",
       "    </tr>\n",
       "    <tr>\n",
       "      <th>4</th>\n",
       "      <td>4</td>\n",
       "      <td>1</td>\n",
       "      <td>1</td>\n",
       "      <td>1</td>\n",
       "    </tr>\n",
       "    <tr>\n",
       "      <th>...</th>\n",
       "      <td>...</td>\n",
       "      <td>...</td>\n",
       "      <td>...</td>\n",
       "      <td>...</td>\n",
       "    </tr>\n",
       "    <tr>\n",
       "      <th>9995</th>\n",
       "      <td>3</td>\n",
       "      <td>0</td>\n",
       "      <td>1</td>\n",
       "      <td>1</td>\n",
       "    </tr>\n",
       "    <tr>\n",
       "      <th>9996</th>\n",
       "      <td>3</td>\n",
       "      <td>0</td>\n",
       "      <td>1</td>\n",
       "      <td>1</td>\n",
       "    </tr>\n",
       "    <tr>\n",
       "      <th>9997</th>\n",
       "      <td>3</td>\n",
       "      <td>0</td>\n",
       "      <td>1</td>\n",
       "      <td>3</td>\n",
       "    </tr>\n",
       "    <tr>\n",
       "      <th>9998</th>\n",
       "      <td>1</td>\n",
       "      <td>0</td>\n",
       "      <td>1</td>\n",
       "      <td>0</td>\n",
       "    </tr>\n",
       "    <tr>\n",
       "      <th>9999</th>\n",
       "      <td>2</td>\n",
       "      <td>2</td>\n",
       "      <td>1</td>\n",
       "      <td>0</td>\n",
       "    </tr>\n",
       "  </tbody>\n",
       "</table>\n",
       "<p>10000 rows × 4 columns</p>\n",
       "</div>"
      ],
      "text/plain": [
       "      N  x_idx  entry_decision  exit_decision\n",
       "0     0      1               1              0\n",
       "1     1      0               1              0\n",
       "2     2      2               1              0\n",
       "3     3      1               1              0\n",
       "4     4      1               1              1\n",
       "...  ..    ...             ...            ...\n",
       "9995  3      0               1              1\n",
       "9996  3      0               1              1\n",
       "9997  3      0               1              3\n",
       "9998  1      0               1              0\n",
       "9999  2      2               1              0\n",
       "\n",
       "[10000 rows x 4 columns]"
      ]
     },
     "execution_count": 26,
     "metadata": {},
     "output_type": "execute_result"
    }
   ],
   "source": [
    "simulated_data"
   ]
  },
  {
   "cell_type": "code",
   "execution_count": 27,
   "metadata": {},
   "outputs": [],
   "source": [
    "simulated_data = pd.read_csv(\"simulated_data.csv\")\n",
    "simulated_data = simulated_data.rename(columns={\"Unnamed: 0\":\"t\"})"
   ]
  },
  {
   "cell_type": "code",
   "execution_count": 28,
   "metadata": {},
   "outputs": [
    {
     "data": {
      "text/html": [
       "<div>\n",
       "<style scoped>\n",
       "    .dataframe tbody tr th:only-of-type {\n",
       "        vertical-align: middle;\n",
       "    }\n",
       "\n",
       "    .dataframe tbody tr th {\n",
       "        vertical-align: top;\n",
       "    }\n",
       "\n",
       "    .dataframe thead th {\n",
       "        text-align: right;\n",
       "    }\n",
       "</style>\n",
       "<table border=\"1\" class=\"dataframe\">\n",
       "  <thead>\n",
       "    <tr style=\"text-align: right;\">\n",
       "      <th></th>\n",
       "      <th>t</th>\n",
       "      <th>N</th>\n",
       "      <th>x_idx</th>\n",
       "      <th>entry_decision</th>\n",
       "      <th>exit_decision</th>\n",
       "    </tr>\n",
       "  </thead>\n",
       "  <tbody>\n",
       "    <tr>\n",
       "      <th>0</th>\n",
       "      <td>0</td>\n",
       "      <td>0</td>\n",
       "      <td>1</td>\n",
       "      <td>1</td>\n",
       "      <td>0</td>\n",
       "    </tr>\n",
       "    <tr>\n",
       "      <th>1</th>\n",
       "      <td>1</td>\n",
       "      <td>1</td>\n",
       "      <td>0</td>\n",
       "      <td>1</td>\n",
       "      <td>0</td>\n",
       "    </tr>\n",
       "    <tr>\n",
       "      <th>2</th>\n",
       "      <td>2</td>\n",
       "      <td>2</td>\n",
       "      <td>2</td>\n",
       "      <td>1</td>\n",
       "      <td>0</td>\n",
       "    </tr>\n",
       "    <tr>\n",
       "      <th>3</th>\n",
       "      <td>3</td>\n",
       "      <td>3</td>\n",
       "      <td>1</td>\n",
       "      <td>1</td>\n",
       "      <td>0</td>\n",
       "    </tr>\n",
       "    <tr>\n",
       "      <th>4</th>\n",
       "      <td>4</td>\n",
       "      <td>4</td>\n",
       "      <td>1</td>\n",
       "      <td>1</td>\n",
       "      <td>1</td>\n",
       "    </tr>\n",
       "    <tr>\n",
       "      <th>...</th>\n",
       "      <td>...</td>\n",
       "      <td>...</td>\n",
       "      <td>...</td>\n",
       "      <td>...</td>\n",
       "      <td>...</td>\n",
       "    </tr>\n",
       "    <tr>\n",
       "      <th>9995</th>\n",
       "      <td>9995</td>\n",
       "      <td>3</td>\n",
       "      <td>0</td>\n",
       "      <td>1</td>\n",
       "      <td>1</td>\n",
       "    </tr>\n",
       "    <tr>\n",
       "      <th>9996</th>\n",
       "      <td>9996</td>\n",
       "      <td>3</td>\n",
       "      <td>0</td>\n",
       "      <td>1</td>\n",
       "      <td>1</td>\n",
       "    </tr>\n",
       "    <tr>\n",
       "      <th>9997</th>\n",
       "      <td>9997</td>\n",
       "      <td>3</td>\n",
       "      <td>0</td>\n",
       "      <td>1</td>\n",
       "      <td>3</td>\n",
       "    </tr>\n",
       "    <tr>\n",
       "      <th>9998</th>\n",
       "      <td>9998</td>\n",
       "      <td>1</td>\n",
       "      <td>0</td>\n",
       "      <td>1</td>\n",
       "      <td>0</td>\n",
       "    </tr>\n",
       "    <tr>\n",
       "      <th>9999</th>\n",
       "      <td>9999</td>\n",
       "      <td>2</td>\n",
       "      <td>2</td>\n",
       "      <td>1</td>\n",
       "      <td>0</td>\n",
       "    </tr>\n",
       "  </tbody>\n",
       "</table>\n",
       "<p>10000 rows × 5 columns</p>\n",
       "</div>"
      ],
      "text/plain": [
       "         t  N  x_idx  entry_decision  exit_decision\n",
       "0        0  0      1               1              0\n",
       "1        1  1      0               1              0\n",
       "2        2  2      2               1              0\n",
       "3        3  3      1               1              0\n",
       "4        4  4      1               1              1\n",
       "...    ... ..    ...             ...            ...\n",
       "9995  9995  3      0               1              1\n",
       "9996  9996  3      0               1              1\n",
       "9997  9997  3      0               1              3\n",
       "9998  9998  1      0               1              0\n",
       "9999  9999  2      2               1              0\n",
       "\n",
       "[10000 rows x 5 columns]"
      ]
     },
     "execution_count": 28,
     "metadata": {},
     "output_type": "execute_result"
    }
   ],
   "source": [
    "simulated_data"
   ]
  },
  {
   "cell_type": "code",
   "execution_count": 29,
   "metadata": {},
   "outputs": [],
   "source": [
    "# (1) estimate entry decision\n",
    "entry_prob = df(simulated_data.groupby(['N', 'x_idx'])['entry_decision'].mean()).reset_index()\n",
    "#impute N = 0, x_idx = 2 as 1\n",
    "entry_prob.loc[17] = [0,2,1] \n",
    "entry_prob = entry_prob.sort_values(['N', 'x_idx'])\n",
    "estimated_entry_prob = entry_prob.loc[entry_prob['N'] != 5]"
   ]
  },
  {
   "cell_type": "code",
   "execution_count": 30,
   "metadata": {},
   "outputs": [],
   "source": [
    "# (2) estimate exit decision\n",
    "exit_decision_data = simulated_data.loc[simulated_data['N'] != 0]\n",
    "exit_N_list = []\n",
    "exit_x_idx_list = []\n",
    "exit_decision_list = []\n",
    "remain_decision_list = []\n",
    "\n",
    "for i in range(exit_decision_data.shape[0]):\n",
    "    N = exit_decision_data['N'].values[i]\n",
    "    x_idx = exit_decision_data['x_idx'].values[i]\n",
    "    exit_decision = exit_decision_data['exit_decision'].values[i]\n",
    "    remain_decision = N - exit_decision\n",
    "    \n",
    "    for j in range(N):\n",
    "        exit_N_list.append(N)\n",
    "        exit_x_idx_list.append(x_idx)\n",
    "    \n",
    "    for k in range(exit_decision):\n",
    "        exit_decision_list.append(1)\n",
    "        remain_decision_list.append(0)    \n",
    "    \n",
    "    for l in range(remain_decision):\n",
    "        exit_decision_list.append(0)\n",
    "        remain_decision_list.append(1)\n",
    "\n",
    "exit_decision_long_data = df({\"N\": exit_N_list, \"x_idx\": exit_x_idx_list, \"exit_decision\": exit_decision_list, \"remain_decision\": remain_decision_list})\n",
    "estimated_remain_prob = df(exit_decision_long_data.groupby(['N', 'x_idx'])['remain_decision'].mean()).reset_index()\n",
    "estimated_exit_prob = df(exit_decision_long_data.groupby(['N', 'x_idx'])['exit_decision'].mean()).reset_index()"
   ]
  },
  {
   "cell_type": "code",
   "execution_count": 31,
   "metadata": {},
   "outputs": [],
   "source": [
    "estimated_remain_prob_matrix = np.ones((5,3))\n",
    "for N in [1,2,3,4,5]:\n",
    "    for x_idx in [0,1,2]:\n",
    "        temp_value = estimated_remain_prob.loc[(estimated_remain_prob['N']==N) & (estimated_remain_prob['x_idx']==x_idx)]['remain_decision'].values[0]\n",
    "        estimated_remain_prob_matrix[N-1][x_idx] = temp_value\n",
    "\n",
    "estimated_entry_prob_matrix = np.ones((5,3))\n",
    "for N in [0,1,2,3,4]:\n",
    "    for x_idx in [0,1,2]:\n",
    "        temp_value = estimated_entry_prob.loc[(estimated_entry_prob['N']==N) & (estimated_entry_prob['x_idx']==x_idx)]['entry_decision'].values[0]\n",
    "        estimated_entry_prob_matrix[N][x_idx] = temp_value"
   ]
  },
  {
   "cell_type": "code",
   "execution_count": 32,
   "metadata": {},
   "outputs": [
    {
     "data": {
      "text/plain": [
       "array([[1.        , 1.        , 1.        ],\n",
       "       [0.85582596, 0.92763158, 0.94520548],\n",
       "       [0.70459364, 0.86947791, 0.86918834],\n",
       "       [0.5801105 , 0.70436927, 0.81298871],\n",
       "       [0.64444444, 0.70094044, 0.811378  ]])"
      ]
     },
     "execution_count": 32,
     "metadata": {},
     "output_type": "execute_result"
    }
   ],
   "source": [
    "estimated_remain_prob_matrix"
   ]
  },
  {
   "cell_type": "markdown",
   "metadata": {},
   "source": [
    "## Question 11"
   ]
  },
  {
   "cell_type": "markdown",
   "metadata": {},
   "source": [
    "### (a) incumbent forward simulation"
   ]
  },
  {
   "cell_type": "code",
   "execution_count": 33,
   "metadata": {},
   "outputs": [],
   "source": [
    "x_tick = [50, 250, 500, 1000, 2500, 5000, 7500, 10000, 12500, 15000]\n",
    "average_value = []\n",
    "for k in x_tick:\n",
    "    simulation_list = [forward_simulate_incumbent.remote(beta, cournot_pi_matrix, entry_TH, exit_TH, theta_distribution, s, 2, 2) for s in range(k)]\n",
    "    simulation_array = np.array(ray.get(simulation_list))\n",
    "    average_value.append(simulation_array.mean())"
   ]
  },
  {
   "cell_type": "code",
   "execution_count": 34,
   "metadata": {},
   "outputs": [
    {
     "data": {
      "image/png": "[encoded data removed]",
      "text/plain": [
       "<Figure size 432x288 with 1 Axes>"
      ]
     },
     "metadata": {
      "needs_background": "light"
     },
     "output_type": "display_data"
    }
   ],
   "source": [
    "plt.scatter(x_tick, average_value)\n",
    "plt.title(\"$\\Lambda$(3,5)\")\n",
    "plt.xlabel(\"# of simulation\")\n",
    "plt.ylabel(\"Expected Value\")\n",
    "plt.show()"
   ]
  },
  {
   "cell_type": "markdown",
   "metadata": {},
   "source": [
    "### (b) entrant forward simulation"
   ]
  },
  {
   "cell_type": "code",
   "execution_count": 37,
   "metadata": {},
   "outputs": [],
   "source": [
    "x_tick = [50, 250, 500, 1000, 2500, 5000, 7500, 10000, 12500, 15000]\n",
    "average_value = []\n",
    "for k in x_tick:\n",
    "    simulation_list = [forward_simulate_entrant.remote(beta, cournot_pi_matrix, entry_TH, exit_TH, theta_distribution, s, 2, 2) for s in range(k)]\n",
    "    simulation_array = np.array(ray.get(simulation_list))\n",
    "    average_value.append(simulation_array.mean())"
   ]
  },
  {
   "cell_type": "code",
   "execution_count": 38,
   "metadata": {},
   "outputs": [
    {
     "data": {
      "image/png": "[encoded data removed]",
      "text/plain": [
       "<Figure size 432x288 with 1 Axes>"
      ]
     },
     "metadata": {
      "needs_background": "light"
     },
     "output_type": "display_data"
    }
   ],
   "source": [
    "plt.scatter(x_tick, average_value)\n",
    "plt.title(\"$\\Lambda^E$(3,5)\")\n",
    "plt.xlabel(\"# of simulation\")\n",
    "plt.ylabel(\"Expected Value\")\n",
    "plt.show()"
   ]
  },
  {
   "cell_type": "markdown",
   "metadata": {},
   "source": [
    "## Question 12"
   ]
  },
  {
   "cell_type": "code",
   "execution_count": 39,
   "metadata": {},
   "outputs": [],
   "source": [
    "def Q_n_first_method(theta_distribution, sim_num):\n",
    "    gamma_loc, gamma_scale, mu_loc, mu_scale = theta_distribution\n",
    "    entry_TH = norm.ppf(estimated_entry_prob_matrix, loc=gamma_loc, scale=gamma_scale)\n",
    "    exit_TH = norm.ppf(estimated_remain_prob_matrix, loc=mu_loc, scale=mu_scale)\n",
    "\n",
    "    # (1) generate incumbent lambda matrix\n",
    "    Lambda_matrix_incumbent = np.ones((5,3))\n",
    "    for N in [1,2,3,4,5]:\n",
    "        for x_idx in [0,1,2]:\n",
    "            simulation_list = [forward_simulate_incumbent.remote(beta, cournot_pi_matrix, entry_TH, exit_TH, theta_distribution, s, N, x_idx) for s in range(sim_num)]\n",
    "            simulation_array = np.array(ray.get(simulation_list))\n",
    "            Lambda_matrix_incumbent[N-1][x_idx] = simulation_array.mean()\n",
    "\n",
    "    # (2) generate entrant lambda matrix\n",
    "    Lambda_matrix_entrant = np.ones((5,3))\n",
    "    for N in [0,1,2,3,4]:\n",
    "        for x_idx in [0,1,2]:\n",
    "            simulation_list = [forward_simulate_entrant.remote(beta, cournot_pi_matrix, entry_TH, exit_TH, theta_distribution, s, N, x_idx) for s in range(sim_num)]\n",
    "            simulation_array = np.array(ray.get(simulation_list))\n",
    "            Lambda_matrix_entrant[N][x_idx] = simulation_array.mean()\n",
    "\n",
    "    incumbent_term = ((norm.cdf((Lambda_matrix_incumbent - mu_loc)/mu_scale) - estimated_remain_prob_matrix)**2).sum()\n",
    "    entrant_term = ((norm.cdf((Lambda_matrix_entrant - gamma_loc)/gamma_scale) - estimated_entry_prob_matrix)**2).sum()\n",
    "\n",
    "    return incumbent_term + entrant_term\n"
   ]
  },
  {
   "cell_type": "code",
   "execution_count": 40,
   "metadata": {},
   "outputs": [],
   "source": [
    "def Q_n_second_method(theta_distribution, sim_num):\n",
    "    gamma_loc, gamma_scale, mu_loc, mu_scale = theta_distribution\n",
    "    entry_TH_f, exit_TH_f, V_bar_f = eqm_finder(3, theta_distribution, theta_search, cournot_pi_matrix)\n",
    "\n",
    "    # (1) generate incumbent lambda matrix\n",
    "    Lambda_matrix_incumbent = np.ones((5,3))\n",
    "    for N in [1,2,3,4,5]:\n",
    "        for x_idx in [0,1,2]:\n",
    "            simulation_list = [forward_simulate_incumbent.remote(beta, cournot_pi_matrix, entry_TH, exit_TH, theta_distribution, s, N, x_idx) for s in range(sim_num)]\n",
    "            simulation_array = np.array(ray.get(simulation_list))\n",
    "            Lambda_matrix_incumbent[N-1][x_idx] = simulation_array.mean()\n",
    "\n",
    "    # (2) generate entrant lambda matrix\n",
    "    Lambda_matrix_entrant = np.ones((5,3))\n",
    "    for N in [0,1,2,3,4]:\n",
    "        for x_idx in [0,1,2]:\n",
    "            simulation_list = [forward_simulate_entrant.remote(beta, cournot_pi_matrix, entry_TH, exit_TH, theta_distribution, s, N, x_idx) for s in range(sim_num)]\n",
    "            simulation_array = np.array(ray.get(simulation_list))\n",
    "            Lambda_matrix_entrant[N][x_idx] = simulation_array.mean()\n",
    "\n",
    "    incumbent_term = ((norm.cdf((Lambda_matrix_incumbent - mu_loc)/mu_scale) - estimated_remain_prob_matrix)**2).sum()\n",
    "    entrant_term = ((norm.cdf((Lambda_matrix_entrant - gamma_loc)/gamma_scale) - estimated_entry_prob_matrix)**2).sum()\n",
    "\n",
    "    return incumbent_term + entrant_term\n"
   ]
  },
  {
   "cell_type": "code",
   "execution_count": 42,
   "metadata": {},
   "outputs": [
    {
     "name": "stdout",
     "output_type": "stream",
     "text": [
      "Optimization terminated successfully.\n",
      "         Current function value: 0.089854\n",
      "         Iterations: 199\n",
      "         Function evaluations: 331\n"
     ]
    },
    {
     "data": {
      "text/plain": [
       " final_simplex: (array([[ 4.07333542,  5.74735529,  0.        , 10.        ],\n",
       "       [ 4.07339691,  5.74731623,  0.        , 10.        ],\n",
       "       [ 4.07328294,  5.74740507,  0.        , 10.        ],\n",
       "       [ 4.07323558,  5.74742694,  0.        ,  9.99999999],\n",
       "       [ 4.07343056,  5.74731885,  0.        ,  9.99999999]]), array([0.08985415, 0.08985415, 0.08985415, 0.08985415, 0.08985415]))\n",
       "           fun: 0.08985415246802225\n",
       "       message: 'Optimization terminated successfully.'\n",
       "          nfev: 331\n",
       "           nit: 199\n",
       "        status: 0\n",
       "       success: True\n",
       "             x: array([ 4.07333542,  5.74735529,  0.        , 10.        ])"
      ]
     },
     "execution_count": 42,
     "metadata": {},
     "output_type": "execute_result"
    }
   ],
   "source": [
    "MD_result_first = minimize(Q_n_first_method, [4,2,6,2], args = 1000, bounds = ((0,10), (0,10), (0,10), (0,10)), method='Nelder-Mead', options={'maxiter':200, 'disp': True})\n",
    "MD_result_first"
   ]
  },
  {
   "cell_type": "code",
   "execution_count": 43,
   "metadata": {},
   "outputs": [
    {
     "name": "stderr",
     "output_type": "stream",
     "text": [
      "/Users/iankim/Library/Mobile Documents/com~apple~CloudDocs/Documents/2ndYear/Daniel/HW/pset2/simulation.py:223: RuntimeWarning: divide by zero encountered in double_scalars\n",
      "  term_2_temp = mu_loc + mu_scale*(norm.pdf(z, loc=0, scale=1)/(1 - norm.cdf(z, loc=0, scale=1)))\n"
     ]
    },
    {
     "name": "stdout",
     "output_type": "stream",
     "text": [
      "Optimization terminated successfully.\n",
      "         Current function value: 0.196628\n",
      "         Iterations: 73\n",
      "         Function evaluations: 149\n"
     ]
    },
    {
     "data": {
      "text/plain": [
       " final_simplex: (array([[3.86089515, 2.00901671, 5.4429935 , 2.24405323],\n",
       "       [3.86079666, 2.00898573, 5.44299607, 2.2440587 ],\n",
       "       [3.86087962, 2.00898203, 5.44302134, 2.2440451 ],\n",
       "       [3.86096114, 2.00897456, 5.44294866, 2.24398707],\n",
       "       [3.86087135, 2.00894965, 5.44297295, 2.24399665]]), array([0.1966282 , 0.19663071, 0.19663097, 0.19663224, 0.19663461]))\n",
       "           fun: 0.19662820162622788\n",
       "       message: 'Optimization terminated successfully.'\n",
       "          nfev: 149\n",
       "           nit: 73\n",
       "        status: 0\n",
       "       success: True\n",
       "             x: array([3.86089515, 2.00901671, 5.4429935 , 2.24405323])"
      ]
     },
     "execution_count": 43,
     "metadata": {},
     "output_type": "execute_result"
    }
   ],
   "source": [
    "MD_result_second = minimize(Q_n_second_method, [4,2,6,2], args = 1000, bounds = ((0,10), (0,10), (0,10), (0,10)), method='Nelder-Mead', options={'maxiter':200, 'disp': True})\n",
    "MD_result_second"
   ]
  }
 ],
 "metadata": {
  "kernelspec": {
   "display_name": "Python 3.9.7 ('base')",
   "language": "python",
   "name": "python3"
  },
  "language_info": {
   "codemirror_mode": {
    "name": "ipython",
    "version": 3
   },
   "file_extension": ".py",
   "mimetype": "text/x-python",
   "name": "python",
   "nbconvert_exporter": "python",
   "pygments_lexer": "ipython3",
   "version": "3.9.7"
  },
  "orig_nbformat": 4,
  "vscode": {
   "interpreter": {
    "hash": "4058ae7d101d4d34f9fe782bbb6316095f0ede2a1a2e6a1564fc2428590ee83d"
   }
  }
 },
 "nbformat": 4,
 "nbformat_minor": 2
}
