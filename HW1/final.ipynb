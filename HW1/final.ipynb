{
 "cells": [
  {
   "cell_type": "code",
   "execution_count": 1,
   "id": "1ea7ab0a",
   "metadata": {},
   "outputs": [
    {
     "name": "stderr",
     "output_type": "stream",
     "text": [
      "2023-02-23 22:20:29,061\tINFO worker.py:1538 -- Started a local Ray instance.\n"
     ]
    }
   ],
   "source": [
    "import numpy as np\n",
    "import pandas as pd\n",
    "from pandas import DataFrame as df\n",
    "import random\n",
    "import math\n",
    "from scipy.stats import norm\n",
    "from scipy.optimize import minimize\n",
    "import time\n",
    "import ray\n",
    "ray.init(num_cpus= 10, ignore_reinit_error=True)\n",
    "from scipy.stats import norm\n",
    "from numpy.linalg import inv\n",
    "import matplotlib.pyplot as plt\n",
    "import warnings\n",
    "from pandas.core.common import SettingWithCopyWarning\n",
    "warnings.simplefilter(action=\"ignore\", category=SettingWithCopyWarning)"
   ]
  },
  {
   "cell_type": "code",
   "execution_count": 2,
   "id": "d50367e7",
   "metadata": {},
   "outputs": [],
   "source": [
    "from DGP_functions import *\n",
    "from MLE_functions import *\n",
    "from SMM_functions import *\n",
    "from MIEQ_functions import *\n",
    "from moment_conditions import *"
   ]
  },
  {
   "cell_type": "code",
   "execution_count": 3,
   "id": "a127455e",
   "metadata": {},
   "outputs": [],
   "source": [
    "# define true parameters\n",
    "alpha = 1\n",
    "beta = 1\n",
    "delta = 1 \n",
    "mu = 2\n",
    "sigma = 1 \n",
    "market_number = 250"
   ]
  },
  {
   "cell_type": "markdown",
   "id": "8cec6b3b",
   "metadata": {},
   "source": [
    "# Q1. Data Generate"
   ]
  },
  {
   "cell_type": "code",
   "execution_count": 8,
   "id": "2d114c1d",
   "metadata": {},
   "outputs": [
    {
     "data": {
      "text/html": [
       "<div>\n",
       "<style scoped>\n",
       "    .dataframe tbody tr th:only-of-type {\n",
       "        vertical-align: middle;\n",
       "    }\n",
       "\n",
       "    .dataframe tbody tr th {\n",
       "        vertical-align: top;\n",
       "    }\n",
       "\n",
       "    .dataframe thead th {\n",
       "        text-align: right;\n",
       "    }\n",
       "</style>\n",
       "<table border=\"1\" class=\"dataframe\">\n",
       "  <thead>\n",
       "    <tr style=\"text-align: right;\">\n",
       "      <th></th>\n",
       "      <th>Unnamed: 0</th>\n",
       "      <th>market_id</th>\n",
       "      <th>potential_entrant</th>\n",
       "      <th>X_m</th>\n",
       "      <th>Z_fm</th>\n",
       "      <th>N_star</th>\n",
       "      <th>entrant</th>\n",
       "      <th>firm_id</th>\n",
       "    </tr>\n",
       "  </thead>\n",
       "  <tbody>\n",
       "    <tr>\n",
       "      <th>0</th>\n",
       "      <td>0</td>\n",
       "      <td>0</td>\n",
       "      <td>3</td>\n",
       "      <td>4.764052</td>\n",
       "      <td>0.400157</td>\n",
       "      <td>1</td>\n",
       "      <td>False</td>\n",
       "      <td>1.0</td>\n",
       "    </tr>\n",
       "    <tr>\n",
       "      <th>1</th>\n",
       "      <td>1</td>\n",
       "      <td>0</td>\n",
       "      <td>3</td>\n",
       "      <td>4.764052</td>\n",
       "      <td>0.978738</td>\n",
       "      <td>1</td>\n",
       "      <td>True</td>\n",
       "      <td>2.0</td>\n",
       "    </tr>\n",
       "    <tr>\n",
       "      <th>2</th>\n",
       "      <td>2</td>\n",
       "      <td>0</td>\n",
       "      <td>3</td>\n",
       "      <td>4.764052</td>\n",
       "      <td>2.240893</td>\n",
       "      <td>1</td>\n",
       "      <td>False</td>\n",
       "      <td>3.0</td>\n",
       "    </tr>\n",
       "    <tr>\n",
       "      <th>3</th>\n",
       "      <td>3</td>\n",
       "      <td>1</td>\n",
       "      <td>2</td>\n",
       "      <td>4.624345</td>\n",
       "      <td>-0.611756</td>\n",
       "      <td>2</td>\n",
       "      <td>True</td>\n",
       "      <td>1.0</td>\n",
       "    </tr>\n",
       "    <tr>\n",
       "      <th>4</th>\n",
       "      <td>4</td>\n",
       "      <td>1</td>\n",
       "      <td>2</td>\n",
       "      <td>4.624345</td>\n",
       "      <td>-0.528172</td>\n",
       "      <td>2</td>\n",
       "      <td>True</td>\n",
       "      <td>2.0</td>\n",
       "    </tr>\n",
       "  </tbody>\n",
       "</table>\n",
       "</div>"
      ],
      "text/plain": [
       "   Unnamed: 0  market_id  potential_entrant       X_m      Z_fm  N_star  \\\n",
       "0           0          0                  3  4.764052  0.400157       1   \n",
       "1           1          0                  3  4.764052  0.978738       1   \n",
       "2           2          0                  3  4.764052  2.240893       1   \n",
       "3           3          1                  2  4.624345 -0.611756       2   \n",
       "4           4          1                  2  4.624345 -0.528172       2   \n",
       "\n",
       "   entrant  firm_id  \n",
       "0    False      1.0  \n",
       "1     True      2.0  \n",
       "2    False      3.0  \n",
       "3     True      1.0  \n",
       "4     True      2.0  "
      ]
     },
     "execution_count": 8,
     "metadata": {},
     "output_type": "execute_result"
    }
   ],
   "source": [
    "master_data = pd.read_csv(\"data_observable.csv\") # all good\n",
    "#master_data = pd.read_csv(\"master_data0223.csv\")  # MLE good\n",
    "master_data.head(5)"
   ]
  },
  {
   "cell_type": "code",
   "execution_count": 9,
   "id": "c47eb399",
   "metadata": {},
   "outputs": [
    {
     "data": {
      "text/html": [
       "<div>\n",
       "<style scoped>\n",
       "    .dataframe tbody tr th:only-of-type {\n",
       "        vertical-align: middle;\n",
       "    }\n",
       "\n",
       "    .dataframe tbody tr th {\n",
       "        vertical-align: top;\n",
       "    }\n",
       "\n",
       "    .dataframe thead th {\n",
       "        text-align: right;\n",
       "    }\n",
       "</style>\n",
       "<table border=\"1\" class=\"dataframe\">\n",
       "  <thead>\n",
       "    <tr style=\"text-align: right;\">\n",
       "      <th></th>\n",
       "      <th>market_id</th>\n",
       "      <th>potential_entrant</th>\n",
       "      <th>X_m</th>\n",
       "      <th>Z_fm</th>\n",
       "      <th>N_star</th>\n",
       "      <th>entrant</th>\n",
       "      <th>firm_id</th>\n",
       "    </tr>\n",
       "  </thead>\n",
       "  <tbody>\n",
       "    <tr>\n",
       "      <th>0</th>\n",
       "      <td>0</td>\n",
       "      <td>3</td>\n",
       "      <td>4.764052</td>\n",
       "      <td>0.400157</td>\n",
       "      <td>1</td>\n",
       "      <td>False</td>\n",
       "      <td>1.0</td>\n",
       "    </tr>\n",
       "    <tr>\n",
       "      <th>1</th>\n",
       "      <td>0</td>\n",
       "      <td>3</td>\n",
       "      <td>4.764052</td>\n",
       "      <td>0.978738</td>\n",
       "      <td>1</td>\n",
       "      <td>True</td>\n",
       "      <td>2.0</td>\n",
       "    </tr>\n",
       "    <tr>\n",
       "      <th>2</th>\n",
       "      <td>0</td>\n",
       "      <td>3</td>\n",
       "      <td>4.764052</td>\n",
       "      <td>2.240893</td>\n",
       "      <td>1</td>\n",
       "      <td>False</td>\n",
       "      <td>3.0</td>\n",
       "    </tr>\n",
       "    <tr>\n",
       "      <th>3</th>\n",
       "      <td>1</td>\n",
       "      <td>2</td>\n",
       "      <td>4.624345</td>\n",
       "      <td>-0.611756</td>\n",
       "      <td>2</td>\n",
       "      <td>True</td>\n",
       "      <td>1.0</td>\n",
       "    </tr>\n",
       "    <tr>\n",
       "      <th>4</th>\n",
       "      <td>1</td>\n",
       "      <td>2</td>\n",
       "      <td>4.624345</td>\n",
       "      <td>-0.528172</td>\n",
       "      <td>2</td>\n",
       "      <td>True</td>\n",
       "      <td>2.0</td>\n",
       "    </tr>\n",
       "  </tbody>\n",
       "</table>\n",
       "</div>"
      ],
      "text/plain": [
       "   market_id  potential_entrant       X_m      Z_fm  N_star  entrant  firm_id\n",
       "0          0                  3  4.764052  0.400157       1    False      1.0\n",
       "1          0                  3  4.764052  0.978738       1     True      2.0\n",
       "2          0                  3  4.764052  2.240893       1    False      3.0\n",
       "3          1                  2  4.624345 -0.611756       2     True      1.0\n",
       "4          1                  2  4.624345 -0.528172       2     True      2.0"
      ]
     },
     "execution_count": 9,
     "metadata": {},
     "output_type": "execute_result"
    }
   ],
   "source": [
    "data_observable = master_data[['market_id', 'potential_entrant', 'X_m', 'Z_fm', 'N_star', 'entrant']]\n",
    "data_observable['firm_id'] = data_observable.groupby('market_id')['Z_fm'].rank(method='min', ascending = True)\n",
    "data_observable.head(5)"
   ]
  },
  {
   "cell_type": "markdown",
   "id": "9a52cfae",
   "metadata": {},
   "source": [
    "# Q2. MLE"
   ]
  },
  {
   "cell_type": "code",
   "execution_count": 10,
   "id": "28602512",
   "metadata": {},
   "outputs": [],
   "source": [
    "def log_likelihood(theta, data_observable):\n",
    "    delta, mu, sigma = theta\n",
    "    log_sum = 0\n",
    "    for i in range(market_number):\n",
    "        work_data = data_observable.loc[data_observable['market_id']==i]\n",
    "        potential_entrant = list(work_data['potential_entrant'])[0]\n",
    "        \n",
    "        if potential_entrant == 2:\n",
    "            prob = prob_ent2(work_data, delta, mu, sigma)\n",
    "        elif potential_entrant == 3:\n",
    "            prob = prob_ent3(work_data, delta, mu, sigma)\n",
    "        elif potential_entrant == 4:\n",
    "            prob = prob_ent4(work_data, delta, mu, sigma)\n",
    "        \n",
    "        log_sum += math.log(prob)\n",
    "    \n",
    "    return -log_sum"
   ]
  },
  {
   "cell_type": "code",
   "execution_count": 11,
   "id": "f8b7c244",
   "metadata": {},
   "outputs": [],
   "source": [
    "# run the optimization\n",
    "MLE_result = minimize(log_likelihood, [0.5, 1, 0.5], args = (data_observable), method='L-BFGS-B', options={'maxiter':200})"
   ]
  },
  {
   "cell_type": "code",
   "execution_count": 12,
   "id": "fe5791e1",
   "metadata": {},
   "outputs": [
    {
     "name": "stdout",
     "output_type": "stream",
     "text": [
      "MLE delta_hat:  0.9106269397820578\n",
      "MLE mu_hat:  1.9935403718653495\n",
      "MLE sigma_hat:  0.9351659683064772\n",
      "MLE CI for delta_hat: [ 0.839824968880798 , 0.9814289106833175 ]\n",
      "MLE CI for mu_hat: [ 1.953370409613819 , 2.03371033411688 ]\n",
      "MLE CI for sigma_hat: [ 0.8865395468827282 , 0.9837923897302263 ]\n"
     ]
    }
   ],
   "source": [
    "# store the MLE estimates\n",
    "delta_hat = MLE_result.x[0]\n",
    "mu_hat = MLE_result.x[1]\n",
    "sigma_hat = MLE_result.x[2]\n",
    "\n",
    "# calculate the std error using hessian information\n",
    "sample_SE_delta = np.sqrt(MLE_result.hess_inv.todense()[0][0])/np.sqrt(market_number)\n",
    "sample_SE_mu = np.sqrt(MLE_result.hess_inv.todense()[1][1])/np.sqrt(market_number)\n",
    "sample_SE_sigma = np.sqrt(MLE_result.hess_inv.todense()[2][2])/np.sqrt(market_number)\n",
    "\n",
    "# store the confidence level\n",
    "CI_constant = norm.ppf(0.975, 0, 1)\n",
    "\n",
    "print(\"MLE delta_hat: \", delta_hat)\n",
    "print(\"MLE mu_hat: \", mu_hat)\n",
    "print(\"MLE sigma_hat: \", sigma_hat)\n",
    "\n",
    "print(\"MLE CI for delta_hat: [\", delta_hat - CI_constant*sample_SE_delta,\",\", delta_hat + CI_constant*sample_SE_delta, \"]\")\n",
    "print(\"MLE CI for mu_hat: [\", mu_hat - CI_constant*sample_SE_mu,\",\", mu_hat + CI_constant*sample_SE_mu, \"]\")\n",
    "print(\"MLE CI for sigma_hat: [\", sigma_hat - CI_constant*sample_SE_sigma,\",\", sigma_hat + CI_constant*sample_SE_sigma, \"]\")"
   ]
  },
  {
   "cell_type": "markdown",
   "id": "6a59c8c1",
   "metadata": {},
   "source": [
    "# Q3. SMM using market & firm level information"
   ]
  },
  {
   "cell_type": "markdown",
   "id": "6813c16e",
   "metadata": {},
   "source": [
    "## (1) Correctly Specified Model"
   ]
  },
  {
   "cell_type": "code",
   "execution_count": 13,
   "id": "9233835c",
   "metadata": {},
   "outputs": [],
   "source": [
    "# do the first step estimation using W = I\n",
    "SMM_result = minimize(SMM_estimator, [0.5, 1, 0.5], args = (data_observable), method='Nelder-Mead', options={'maxiter':300})\n",
    "\n",
    "# store the weighting matrix\n",
    "W_hat = SMM_weighting_matrix(SMM_result.x, data_observable)\n",
    "\n",
    "# two step SMM\n",
    "efficient_SMM_result = minimize(efficient_SMM_estimator, [0.5, 1, 0.5], args = (data_observable, W_hat), method='Nelder-Mead', options={'maxiter':300})"
   ]
  },
  {
   "cell_type": "code",
   "execution_count": 15,
   "id": "bc767d59",
   "metadata": {},
   "outputs": [
    {
     "name": "stdout",
     "output_type": "stream",
     "text": [
      "SMM delta_hat:  0.8914265756285141\n",
      "SMM mu_hat:  1.9801378017976827\n",
      "SMM sigma_hat:  1.1384379768229902\n",
      "SMM CI for delta_hat: [ 0.5671497267626208 , 1.2157034244944076 ]\n",
      "SMM CI for mu_hat: [ 1.6718552885558289 , 2.2884203150395366 ]\n",
      "SMM CI for sigma_hat: [ 1.0094694132201447 , 1.2674065404258357 ]\n"
     ]
    }
   ],
   "source": [
    "# store the efficient SMM estimates\n",
    "delta_hat = efficient_SMM_result.x[0]\n",
    "mu_hat = efficient_SMM_result.x[1]\n",
    "sigma_hat = efficient_SMM_result.x[2]\n",
    "\n",
    "# calculate the std error following Pakes and Pollard (1989)\n",
    "sample_SE_delta, sample_SE_mu, sample_SE_sigma = Pakes_Pollard_SE(efficient_SMM_result, W_hat, 0.0005, data_observable)\n",
    "\n",
    "# store the confidence level\n",
    "CI_constant = norm.ppf(0.975, 0, 1)\n",
    "\n",
    "print(\"SMM delta_hat: \", delta_hat)\n",
    "print(\"SMM mu_hat: \", mu_hat)\n",
    "print(\"SMM sigma_hat: \", sigma_hat)\n",
    "\n",
    "print(\"SMM CI for delta_hat: [\", delta_hat - CI_constant*sample_SE_delta,\",\", delta_hat + CI_constant*sample_SE_delta, \"]\")\n",
    "print(\"SMM CI for mu_hat: [\", mu_hat - CI_constant*sample_SE_mu,\",\", mu_hat + CI_constant*sample_SE_mu, \"]\")\n",
    "print(\"SMM CI for sigma_hat: [\", sigma_hat - CI_constant*sample_SE_sigma,\",\", sigma_hat + CI_constant*sample_SE_sigma, \"]\")"
   ]
  },
  {
   "cell_type": "markdown",
   "id": "82895043",
   "metadata": {},
   "source": [
    "## (2) Misspecified Model"
   ]
  },
  {
   "cell_type": "code",
   "execution_count": 19,
   "id": "85c3629c",
   "metadata": {},
   "outputs": [],
   "source": [
    "# do the first step estimation using W = I\n",
    "SMM_result2 = minimize(SMM_estimator_wrong, [0.5, 1, 0.5], args = (data_observable), method='Nelder-Mead', options={'maxiter':300})\n",
    "\n",
    "# store the weighting matrix\n",
    "W_hat2 = SMM_weighting_matrix_wrong(SMM_result2.x, data_observable)\n",
    "\n",
    "# two step SMM\n",
    "efficient_SMM_result2 = minimize(efficient_SMM_estimator_wrong, [0.5, 1, 0.5], args = (data_observable, W_hat2), method='Nelder-Mead', options={'maxiter':300})"
   ]
  },
  {
   "cell_type": "code",
   "execution_count": 20,
   "id": "d71cbc9d",
   "metadata": {},
   "outputs": [
    {
     "name": "stdout",
     "output_type": "stream",
     "text": [
      "misspecified SMM delta_hat:  -2.895653856478084\n",
      "misspecified SMM mu_hat:  3.619669582312371\n",
      "misspecified SMM sigma_hat:  5.328483163931301\n",
      "misspecified SMM CI for delta_hat: [ -3.2758601410415693 , -2.5154475719145983 ]\n",
      "misspecified SMM CI for mu_hat: [ 2.9447359149698062 , 4.294603249654935 ]\n",
      "misspecified SMM CI for sigma_hat: [ 4.529268549375564 , 6.127697778487038 ]\n"
     ]
    }
   ],
   "source": [
    "# store the efficient SMM estimates\n",
    "delta_hat2 = efficient_SMM_result2.x[0]\n",
    "mu_hat2 = efficient_SMM_result2.x[1]\n",
    "sigma_hat2 = efficient_SMM_result2.x[2]\n",
    "\n",
    "# calculate the std error following Pakes and Pollard (1989)\n",
    "sample_SE_delta2, sample_SE_mu2, sample_SE_sigma2 = Pakes_Pollard_SE_wrong(efficient_SMM_result2, W_hat2, 0.001, data_observable)\n",
    "\n",
    "# store the confidence level\n",
    "CI_constant = norm.ppf(0.975, 0, 1)\n",
    "\n",
    "print(\"misspecified SMM delta_hat: \", delta_hat2)\n",
    "print(\"misspecified SMM mu_hat: \", mu_hat2)\n",
    "print(\"misspecified SMM sigma_hat: \", sigma_hat2)\n",
    "\n",
    "print(\"misspecified SMM CI for delta_hat: [\", delta_hat2 - CI_constant*sample_SE_delta2,\",\", delta_hat2 + CI_constant*sample_SE_delta2, \"]\")\n",
    "print(\"misspecified SMM CI for mu_hat: [\", mu_hat2 - CI_constant*sample_SE_mu2,\",\", mu_hat2 + CI_constant*sample_SE_mu2, \"]\")\n",
    "print(\"misspecified SMM CI for sigma_hat: [\", sigma_hat2 - CI_constant*sample_SE_sigma2,\",\", sigma_hat2 + CI_constant*sample_SE_sigma2, \"]\")"
   ]
  },
  {
   "cell_type": "markdown",
   "id": "7ffe0f3d",
   "metadata": {},
   "source": [
    "# Q4. SMM using market level information"
   ]
  },
  {
   "cell_type": "code",
   "execution_count": 68,
   "id": "676cda50",
   "metadata": {},
   "outputs": [],
   "source": [
    "market_list = [i for i in range(market_number)]\n",
    "outcomes = []\n",
    "for B in range(100):\n",
    "    random.seed(B)\n",
    "    selection_list = random.choices(market_list, k=250)\n",
    "    \n",
    "    start_time = time.time()\n",
    "    bnds = ((0, 3), (0, 3), (0, 3))\n",
    "    MSM_result = minimize(MSM_estimator_0204_bootstrap, [0.5, 1, 0.5], args = (data_observable, selection_list), method='Nelder-Mead', bounds = bnds, options={'maxiter':300})\n",
    "    outcomes.append(MSM_result.x) "
   ]
  },
  {
   "cell_type": "code",
   "execution_count": 94,
   "id": "d82838b0",
   "metadata": {},
   "outputs": [
    {
     "name": "stdout",
     "output_type": "stream",
     "text": [
      "Average of Minimum Distance delta estimates 0.6455314443252769\n",
      "Average of Minimum Distance mu estimates 2.1762703765670652\n",
      "Average of Minimum Distance sigma estimates 1.0198574362976252\n",
      "Empirical Confidence Interval for delta: [ 0.08153605483488154 , 1.2880854339810504 ]\n",
      "Empirical Confidence Interval for mu: [ 1.74934902201824 , 2.5533735272340032 ]\n",
      "Empirical Confidence Interval for sigma: [ 0.4337890785033024 , 1.383087492871576 ]\n"
     ]
    }
   ],
   "source": [
    "q4_delta_array = np.array(outcomes)[:,0]\n",
    "q4_mu_array = np.array(outcomes)[:,1]\n",
    "q4_sigma_array = np.array(outcomes)[:,2]\n",
    "\n",
    "print(\"Average of Minimum Distance delta estimates\", q4_delta_array.mean())\n",
    "print(\"Average of Minimum Distance mu estimates\", q4_mu_array.mean())\n",
    "print(\"Average of Minimum Distance sigma estimates\", q4_sigma_array.mean())\n",
    "\n",
    "print(\"Empirical Confidence Interval for delta: [\", np.percentile(q4_delta_array, 2.5),\",\", np.percentile(q4_delta_array, 97.5),\"]\")\n",
    "print(\"Empirical Confidence Interval for mu: [\", np.percentile(q4_mu_array, 2.5),\",\", np.percentile(q4_mu_array, 97.5),\"]\")\n",
    "print(\"Empirical Confidence Interval for sigma: [\", np.percentile(q4_sigma_array, 2.5),\",\", np.percentile(q4_sigma_array, 97.5),\"]\")"
   ]
  },
  {
   "cell_type": "markdown",
   "id": "7c14bfa8",
   "metadata": {},
   "source": [
    "# Q5. Set Identification"
   ]
  },
  {
   "cell_type": "code",
   "execution_count": 23,
   "id": "a095d982",
   "metadata": {},
   "outputs": [],
   "source": [
    "df_master = pd.read_csv(\"df_list_9.csv\")\n",
    "\n",
    "df_2firms = df_reshape(df_master, 2)\n",
    "df_3firms = df_reshape(df_master, 3)\n",
    "df_4firms = df_reshape(df_master, 4)\n",
    "\n",
    "df_2firms = bin_number_2firms(df_2firms)\n",
    "df_3firms = bin_number_3firms(df_3firms)\n",
    "df_4firms = bin_number_4firms(df_4firms)\n",
    "\n",
    "freq_2firms_dict = {}\n",
    "for bin_num in df_2firms['bin_num'].unique():\n",
    "    freq_2firms_dict[bin_num] = Freq_Est_2firms(df_2firms, bin_num)\n",
    "\n",
    "freq_3firms_dict = {}\n",
    "for bin_num in df_3firms['bin_num'].unique():\n",
    "    freq_3firms_dict[bin_num] = Freq_Est_3firms(df_3firms, bin_num)\n",
    "\n",
    "freq_4firms_dict = {}\n",
    "for bin_num in df_4firms['bin_num'].unique():\n",
    "    freq_4firms_dict[bin_num] = Freq_Est_4firms(df_4firms, bin_num)\n",
    "\n",
    "global_opt = minimize(min_obj, [1,2,1], args = (df_2firms, df_3firms, df_4firms, freq_2firms_dict, freq_3firms_dict, freq_4firms_dict), method='Nelder-Mead', options={'maxiter':300})\n"
   ]
  },
  {
   "cell_type": "code",
   "execution_count": 27,
   "id": "e8ee7a65",
   "metadata": {},
   "outputs": [],
   "source": [
    "# step 0: construct a discretized parameter space\n",
    "delta_grid = np.linspace(0,3,20)\n",
    "mu_grid = np.linspace(0,3,20)\n",
    "sigma_grid = np.linspace(0,3,20)\n",
    "parameter_space = [(a,b,c) for a in delta_grid for b in mu_grid for c in sigma_grid]\n",
    "\n",
    "Q_n_list = [min_obj_ray.remote(parameter, df_2firms, df_3firms, df_4firms, freq_2firms_dict, freq_3firms_dict, freq_4firms_dict)for parameter in parameter_space]\n",
    "Q_n_array = np.array(ray.get(Q_n_list))"
   ]
  },
  {
   "cell_type": "code",
   "execution_count": 28,
   "id": "3fe49ec9",
   "metadata": {},
   "outputs": [],
   "source": [
    "# step 1: initialize with c_0 \n",
    "df_level_set = df({\"parameter_space\":parameter_space,\n",
    "                  \"Q_n_values\": Q_n_array})\n",
    "df_level_set['Q_n_gap'] = df_level_set['Q_n_values'] - global_opt.fun\n",
    "\n",
    "c_0 = 2*global_opt.fun\n",
    "criterion = c_0 / market_number"
   ]
  },
  {
   "cell_type": "code",
   "execution_count": 29,
   "id": "ef65c7a5",
   "metadata": {},
   "outputs": [],
   "source": [
    "# step 2: construct the level set C(c_0)\n",
    "df_filtered = df_level_set.loc[df_level_set['Q_n_gap'] <= criterion]"
   ]
  },
  {
   "cell_type": "code",
   "execution_count": 30,
   "id": "0248d91b",
   "metadata": {},
   "outputs": [],
   "source": [
    "# step 3: update c_1 from bootstrapping\n",
    "B = 100\n",
    "b = 80\n",
    "parameter_space_c0 = np.array(df_filtered['parameter_space'])\n",
    "market_id_list = [i for i in range(250)]\n",
    "\n",
    "T = [mieq_bootstrap.remote(j, b, data_observable, parameter_space_c0, market_id_list) for j in range(B)]\n",
    "T_array = np.array(ray.get(T))\n",
    "c_1 = np.percentile(T_array, 5)"
   ]
  },
  {
   "cell_type": "code",
   "execution_count": 31,
   "id": "3f5d2417",
   "metadata": {},
   "outputs": [],
   "source": [
    "# step 4: go further to update cut off level to c_2\n",
    "criterion = c_1 / market_number\n",
    "df_filtered = df_level_set.loc[df_level_set['Q_n_gap'] <= criterion]\n",
    "parameter_space_c1 = np.array(df_filtered['parameter_space'])\n",
    "market_id_list = [i for i in range(250)]\n",
    "\n",
    "T = [mieq_bootstrap.remote(j, b, data_observable, parameter_space_c1, market_id_list) for j in range(B)]\n",
    "T_array = np.array(ray.get(T))\n",
    "c_2 = np.percentile(T_array, 5)"
   ]
  },
  {
   "cell_type": "code",
   "execution_count": 34,
   "id": "4384208b",
   "metadata": {},
   "outputs": [
    {
     "name": "stdout",
     "output_type": "stream",
     "text": [
      "initial cut off c_0:  0.8641576826890175\n",
      "updated cut off c_1:  0.871716432001008\n",
      "updated cut off c_2:  0.863857911752052\n",
      "confidence bound for delta: [ 0.7894736842105263 , 1.7368421052631577 ]\n",
      "confidence bound for mu: [ 1.263157894736842 , 2.052631578947368 ]\n",
      "confidence bound for sigma: [ 1.7368421052631577 , 2.2105263157894735 ]\n"
     ]
    }
   ],
   "source": [
    "# report the confidence region\n",
    "criterion = c_2 / market_number\n",
    "df_filtered = df_level_set.loc[df_level_set['Q_n_gap'] <= criterion]\n",
    "delta_list = [candidate[0] for candidate in np.array(df_filtered['parameter_space'])]\n",
    "mu_list = [candidate[1] for candidate in np.array(df_filtered['parameter_space'])]\n",
    "sigma_list = [candidate[2] for candidate in np.array(df_filtered['parameter_space'])]\n",
    "\n",
    "print(\"initial cut off c_0: \", c_0)\n",
    "print(\"updated cut off c_1: \", c_1)\n",
    "print(\"updated cut off c_2: \", c_2)\n",
    "\n",
    "print(\"confidence bound for delta: [\", np.array(delta_list).min(),\",\", np.array(delta_list).max(), \"]\")\n",
    "print(\"confidence bound for mu: [\", np.array(mu_list).min(),\",\", np.array(mu_list).max(), \"]\")\n",
    "print(\"confidence bound for sigma: [\", np.array(sigma_list).min(),\",\", np.array(sigma_list).max(), \"]\")"
   ]
  }
 ],
 "metadata": {
  "kernelspec": {
   "display_name": "Python 3 (ipykernel)",
   "language": "python",
   "name": "python3"
  },
  "language_info": {
   "codemirror_mode": {
    "name": "ipython",
    "version": 3
   },
   "file_extension": ".py",
   "mimetype": "text/x-python",
   "name": "python",
   "nbconvert_exporter": "python",
   "pygments_lexer": "ipython3",
   "version": "3.9.7"
  },
  "vscode": {
   "interpreter": {
    "hash": "4058ae7d101d4d34f9fe782bbb6316095f0ede2a1a2e6a1564fc2428590ee83d"
   }
  }
 },
 "nbformat": 4,
 "nbformat_minor": 5
}
